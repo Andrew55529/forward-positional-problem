{
 "cells": [
  {
   "cell_type": "code",
   "execution_count": 64,
   "id": "9d6fb001",
   "metadata": {},
   "outputs": [],
   "source": [
    "import numpy as np\n",
    "np.set_printoptions(suppress=True)\n",
    "from typing import Optional, Callable"
   ]
  },
  {
   "cell_type": "code",
   "execution_count": 87,
   "id": "b0f574c8",
   "metadata": {},
   "outputs": [],
   "source": [
    "class Robot:\n",
    "    def __init__(self,\n",
    "                 dh_config: dict[str, list[float]],\n",
    "                 angle_transformers: Optional[dict[str, Callable[[float, list[float]], float]]] = None):\n",
    "        assert set(dh_config.keys()) == {'alpha', 'theta_0', 'a', 'd'}, 'Wrong config'\n",
    "        assert len(set(map(len, dh_config.values()))) == 1, \"Numberhttps://www.researchgate.net/profile/Seungwoo-Noh-2/publication/265394265/figure/tbl1/AS:670496492363811@1536870229905/Forward-kinematics-of-the-system-D-H-parameters.png of values for each param must stay the same\"\n",
    "        # TODO theta params should better be like in https://www.researchgate.net/profile/Seungwoo-Noh-2/publication/265394265/figure/tbl1/AS:670496492363811@1536870229905/Forward-kinematics-of-the-system-D-H-parameters.png\n",
    "        self.dh_config = dh_config\n",
    "        self.num_of_joints = len(dh_config['alpha'])\n",
    "        \n",
    "        if angle_transformers is None:\n",
    "            angle_transformers = {}\n",
    "        self.angle_transformers = angle_transformers\n",
    "    \n",
    "    def _dh_matrix_from_joint(self, joint_idx: int, joint_angles: list[float]) -> np.ndarray:\n",
    "        if f'j{joint_idx + 1}' in self.angle_transformers:\n",
    "            theta = self.angle_transformers[f'j{joint_idx + 1}'](joint_angles)\n",
    "        else:\n",
    "            theta = joint_angles[joint_idx]\n",
    "        \n",
    "        theta = np.radians(theta)\n",
    "        theta += self.dh_config['theta_0'][joint_idx]\n",
    "        cth = np.cos(theta)\n",
    "        sth = np.sin(theta)\n",
    "        d = self.dh_config['d'][joint_idx]\n",
    "        a = self.dh_config['a'][joint_idx]\n",
    "        alpha = self.dh_config['alpha'][joint_idx]\n",
    "        calpha = np.cos(alpha)\n",
    "        salpha = np.sin(alpha)\n",
    "        return np.array([\n",
    "            [cth, -sth*calpha,  sth*salpha, a*cth],\n",
    "            [sth,  cth*calpha, -cth*salpha, a*sth],\n",
    "            [0, salpha, calpha, d],\n",
    "            [0, 0, 0, 1]\n",
    "        ])\n",
    "    \n",
    "    def forward(self, joint_angles: list[float]) -> np.ndarray:\n",
    "        matrices = [self._dh_matrix_from_joint(idx, joint_angles) for idx in range(len(joint_angles))]\n",
    "        homogenous = np.linalg.multi_dot(matrices)\n",
    "        R = homogenous[:3, :3]\n",
    "        p = np.arctan2(-R[2, 0], np.hypot(R[0, 0], R[1, 0]))\n",
    "        cbeta = np.cos(p)\n",
    "        r = np.arctan2(R[1, 0]/cbeta, R[0, 0]/cbeta)\n",
    "        w = np.arctan2(R[2, 1]/cbeta, R[2, 2]/cbeta)\n",
    "        wpr = np.rad2deg(np.array([w, p, r]))\n",
    "        xyz = homogenous[:3, 3]\n",
    "        return np.concatenate([xyz, wpr])\n",
    "        \n",
    "    def backward(self, coordinates: list[float]):\n",
    "        pass"
   ]
  },
  {
   "cell_type": "code",
   "execution_count": 88,
   "id": "706f5430",
   "metadata": {},
   "outputs": [
    {
     "data": {
      "text/plain": [
       "array([1311.46017098,    1.59358216, 1134.68067502,   21.56937939,\n",
       "        -31.92322806,  144.27836146])"
      ]
     },
     "execution_count": 88,
     "metadata": {},
     "output_type": "execute_result"
    }
   ],
   "source": [
    "dh_conf = {\n",
    "    'theta_0':[0, np.pi/2, 0, 0, 0, 0],\n",
    "    'alpha': [np.pi/2, 0, -np.pi/2, np.pi/2, -np.pi/2, np.pi],\n",
    "    'a': [150., 790., 250., 0, 0, 0],\n",
    "    'd': [0, 0, 0, -835.0, 0, -100],\n",
    "}\n",
    "\n",
    "robot = Robot(dh_conf, {'j2': (lambda angles: -angles[1]), 'j3': (lambda angles: angles[1] + angles[2])})\n",
    "robot.forward([0.021, 21.506, 4.924, .869, 47.206, 29.134])\n",
    "# "
   ]
  },
  {
   "cell_type": "code",
   "execution_count": 84,
   "id": "92894258",
   "metadata": {},
   "outputs": [],
   "source": [
    "coords_from_log = list(map(float, ['3.39', '1.83', '-.16', '1.43', '-49.87', '-6.37', '1073.42', '61.73', '960.61', '-176.52', '-39.87', '-3.72', '1073.42', '61.73', '960.61', '-176.52', '-39.87', '-3.72']))"
   ]
  },
  {
   "cell_type": "code",
   "execution_count": 89,
   "id": "0e841c66",
   "metadata": {},
   "outputs": [
    {
     "name": "stdout",
     "output_type": "stream",
     "text": [
      "[1073.39299024   61.67188109  960.650072   -176.53063464  -39.86565948\n",
      "   -3.71440721]\n",
      "[1073.42, 61.73, 960.61, -176.52, -39.87, -3.72]\n"
     ]
    }
   ],
   "source": [
    "print(robot.forward(coords_from_log[:6]), coords_from_log[6:12], sep='\\n')"
   ]
  },
  {
   "cell_type": "markdown",
   "id": "2afd497f",
   "metadata": {},
   "source": [
    "https://i.imgur.com/Bf728xV.png"
   ]
  }
 ],
 "metadata": {
  "kernelspec": {
   "display_name": "Python 3 (ipykernel)",
   "language": "python",
   "name": "python3"
  },
  "language_info": {
   "codemirror_mode": {
    "name": "ipython",
    "version": 3
   },
   "file_extension": ".py",
   "mimetype": "text/x-python",
   "name": "python",
   "nbconvert_exporter": "python",
   "pygments_lexer": "ipython3",
   "version": "3.9.7"
  }
 },
 "nbformat": 4,
 "nbformat_minor": 5
}
